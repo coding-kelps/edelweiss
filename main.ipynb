{
 "cells": [
  {
   "cell_type": "markdown",
   "metadata": {},
   "source": [
    "# Chamois Initial Data Mining"
   ]
  },
  {
   "cell_type": "code",
   "execution_count": null,
   "metadata": {},
   "outputs": [],
   "source": [
    "import os\n",
    "\n",
    "gbif_username = os.environ[\"GBIF_USERNAME\"]"
   ]
  },
  {
   "cell_type": "code",
   "execution_count": null,
   "metadata": {},
   "outputs": [],
   "source": [
    "from pygbif import species as species\n",
    "from pygbif import occurrences as occ\n",
    "\n",
    "# Get GBIF backbone taxonomic keys\n",
    "splist = ['Cyanocitta stelleri', 'Junco hyemalis', 'Aix sponsa',\n",
    "  'Ursus americanus', 'Pinus conorta', 'Poa annuus']\n",
    "keys = [ species.name_backbone(x)['usageKey'] for x in splist ]\n",
    "\n",
    "# Get a count of occurrence records for each taxon,\n",
    "# pull out number of records found for each taxon\n",
    "out = [ occ.search(taxonKey = x, limit=0)['count'] for x in keys ]\n",
    "\n",
    "# Make a dict of species names and number of records, sorting in descending order\n",
    "x = dict(zip(splist, out))\n",
    "sorted(x.items(), key=lambda z:z[1], reverse=True)"
   ]
  }
 ],
 "metadata": {
  "kernelspec": {
   "display_name": ".venv",
   "language": "python",
   "name": "python3"
  },
  "language_info": {
   "codemirror_mode": {
    "name": "ipython",
    "version": 3
   },
   "file_extension": ".py",
   "mimetype": "text/x-python",
   "name": "python",
   "nbconvert_exporter": "python",
   "pygments_lexer": "ipython3",
   "version": "3.13.2"
  }
 },
 "nbformat": 4,
 "nbformat_minor": 2
}
